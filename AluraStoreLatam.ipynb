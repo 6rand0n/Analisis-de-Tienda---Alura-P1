{
  "nbformat": 4,
  "nbformat_minor": 0,
  "metadata": {
    "colab": {
      "provenance": []
    },
    "kernelspec": {
      "name": "python3",
      "display_name": "Python 3"
    },
    "language_info": {
      "name": "python"
    }
  },
  "cells": [
    {
      "cell_type": "markdown",
      "source": [
        "### Importación de datos\n",
        "\n"
      ],
      "metadata": {
        "id": "RhEdWd9YUR6H"
      }
    },
    {
      "cell_type": "code",
      "execution_count": 63,
      "metadata": {
        "id": "T3EvaeQ_INIL"
      },
      "outputs": [],
      "source": [
        "import pandas as pd\n",
        "import matplotlib.pyplot as plt\n",
        "\n",
        "url = \"https://raw.githubusercontent.com/alura-es-cursos/challenge1-data-science-latam/refs/heads/main/base-de-datos-challenge1-latam/tienda_1%20.csv\"\n",
        "url2 = \"https://raw.githubusercontent.com/alura-es-cursos/challenge1-data-science-latam/refs/heads/main/base-de-datos-challenge1-latam/tienda_2.csv\"\n",
        "url3 = \"https://raw.githubusercontent.com/alura-es-cursos/challenge1-data-science-latam/refs/heads/main/base-de-datos-challenge1-latam/tienda_3.csv\"\n",
        "url4 = \"https://raw.githubusercontent.com/alura-es-cursos/challenge1-data-science-latam/refs/heads/main/base-de-datos-challenge1-latam/tienda_4.csv\"\n",
        "\n",
        "tienda = pd.read_csv(url)\n",
        "tienda2 = pd.read_csv(url2)\n",
        "tienda3 = pd.read_csv(url3)\n",
        "tienda4 = pd.read_csv(url4)"
      ]
    },
    {
      "cell_type": "markdown",
      "source": [
        "#1. Análisis de facturación\n",
        "\n"
      ],
      "metadata": {
        "id": "X62IW3KFUIYm"
      }
    },
    {
      "cell_type": "code",
      "source": [
        "total_t1 = tienda[\"Precio\"].sum()\n",
        "total_t2 = tienda2[\"Precio\"].sum()\n",
        "total_t3 = tienda3[\"Precio\"].sum()\n",
        "total_t4 = tienda4[\"Precio\"].sum()"
      ],
      "metadata": {
        "id": "xykobSftV64I"
      },
      "execution_count": 64,
      "outputs": []
    },
    {
      "cell_type": "code",
      "source": [
        "print(f\"--- Ingresos totales por tienda ---\\n\")\n",
        "\n",
        "print(\"Tienda 1:\", total_t1)\n",
        "print(\"Tienda 2:\", total_t2)\n",
        "print(\"Tienda 3:\", total_t3)\n",
        "print(\"Tienda 4:\", total_t4)"
      ],
      "metadata": {
        "id": "KDyr8E71V3m-",
        "colab": {
          "base_uri": "https://localhost:8080/"
        },
        "outputId": "f6c7ef1d-17dd-4500-ffee-de64629dcc5e"
      },
      "execution_count": 65,
      "outputs": [
        {
          "output_type": "stream",
          "name": "stdout",
          "text": [
            "--- Ingresos totales por tienda ---\n",
            "\n",
            "Tienda 1: 1150880400.0\n",
            "Tienda 2: 1116343500.0\n",
            "Tienda 3: 1098019600.0\n",
            "Tienda 4: 1038375700.0\n"
          ]
        }
      ]
    },
    {
      "cell_type": "markdown",
      "source": [
        "# 2. Ventas por categoría"
      ],
      "metadata": {
        "id": "2V_vcAPzWZmR"
      }
    },
    {
      "cell_type": "code",
      "source": [
        "print(f\"\\n------ Ventas por categoria ------\")\n",
        "\n",
        "tiendas = {\n",
        "    \"Tienda 1\": tienda,\n",
        "    \"Tienda 2\": tienda2,\n",
        "    \"Tienda 3\": tienda3,\n",
        "    \"Tienda 4\": tienda4\n",
        "}"
      ],
      "metadata": {
        "id": "A34YupIuYhfF",
        "colab": {
          "base_uri": "https://localhost:8080/"
        },
        "outputId": "b9ae0fd7-697e-4a6f-8b0d-b98463e32a67"
      },
      "execution_count": 66,
      "outputs": [
        {
          "output_type": "stream",
          "name": "stdout",
          "text": [
            "\n",
            "------ Ventas por categoria ------\n"
          ]
        }
      ]
    },
    {
      "cell_type": "code",
      "source": [
        "for nombre, df in tiendas.items():\n",
        "    print(f\"\\n--- {nombre} ---\")\n",
        "    categorias = (\n",
        "        df.groupby(\"Categoría del Producto\")[\"Categoría del Producto\"]\n",
        "        .count()\n",
        "        .reset_index(name=\"Cantidad\")\n",
        "        .sort_values(by=\"Cantidad\", ascending=False)\n",
        "        .head(3)   #  Solo las 3 mas populares\n",
        "    )\n",
        "    print(categorias)"
      ],
      "metadata": {
        "id": "yZR6cOjXYSk1",
        "colab": {
          "base_uri": "https://localhost:8080/"
        },
        "outputId": "8d9c2344-e8e6-47fa-e62a-6dbcc0ea2c1c"
      },
      "execution_count": 67,
      "outputs": [
        {
          "output_type": "stream",
          "name": "stdout",
          "text": [
            "\n",
            "--- Tienda 1 ---\n",
            "  Categoría del Producto  Cantidad\n",
            "7                Muebles       465\n",
            "3           Electrónicos       448\n",
            "5               Juguetes       324\n",
            "\n",
            "--- Tienda 2 ---\n",
            "  Categoría del Producto  Cantidad\n",
            "7                Muebles       442\n",
            "3           Electrónicos       422\n",
            "5               Juguetes       313\n",
            "\n",
            "--- Tienda 3 ---\n",
            "  Categoría del Producto  Cantidad\n",
            "7                Muebles       499\n",
            "3           Electrónicos       451\n",
            "5               Juguetes       315\n",
            "\n",
            "--- Tienda 4 ---\n",
            "  Categoría del Producto  Cantidad\n",
            "7                Muebles       480\n",
            "3           Electrónicos       451\n",
            "5               Juguetes       338\n"
          ]
        }
      ]
    },
    {
      "cell_type": "markdown",
      "source": [
        "# 3. Calificación promedio de la tienda\n"
      ],
      "metadata": {
        "id": "Rq6tU_xSY3jk"
      }
    },
    {
      "cell_type": "code",
      "source": [
        "print(f\"\\n------- Calificacion media -------\\n\")\n",
        "\n",
        "for nombre, df in tiendas.items():\n",
        "    promedio = df[\"Calificación\"].mean()\n",
        "    print(f\"{nombre}: {promedio:.2f}\")"
      ],
      "metadata": {
        "id": "bh3jjjJwY5MU",
        "colab": {
          "base_uri": "https://localhost:8080/"
        },
        "outputId": "33e019cd-d232-4c9a-f266-fa1572ad850a"
      },
      "execution_count": 68,
      "outputs": [
        {
          "output_type": "stream",
          "name": "stdout",
          "text": [
            "\n",
            "------- Calificacion media -------\n",
            "\n",
            "Tienda 1: 3.98\n",
            "Tienda 2: 4.04\n",
            "Tienda 3: 4.05\n",
            "Tienda 4: 4.00\n"
          ]
        }
      ]
    },
    {
      "cell_type": "code",
      "source": [],
      "metadata": {
        "id": "I0KkjPoTY88F"
      },
      "execution_count": 68,
      "outputs": []
    },
    {
      "cell_type": "markdown",
      "source": [
        "# 4. Productos más y menos vendidos"
      ],
      "metadata": {
        "id": "DmNp1KPBZCm-"
      }
    },
    {
      "cell_type": "code",
      "source": [
        "print(f\"\\n------ Productos mas vendidos ------\")\n",
        "\n",
        "for nombre, df in tiendas.items():\n",
        "    print(f\"\\n--- {nombre} ---\")\n",
        "    categorias = (\n",
        "        df.groupby(\"Producto\")[\"Producto\"]\n",
        "        .count()\n",
        "        .reset_index(name=\"Cantidad\")\n",
        "        .sort_values(by=\"Cantidad\", ascending=False)\n",
        "        .head(3)\n",
        "    )\n",
        "    print(categorias)"
      ],
      "metadata": {
        "id": "qoyjqijQZHfF",
        "colab": {
          "base_uri": "https://localhost:8080/"
        },
        "outputId": "310bcf85-ecb5-451c-d7fd-47cf732e2d99"
      },
      "execution_count": 69,
      "outputs": [
        {
          "output_type": "stream",
          "name": "stdout",
          "text": [
            "\n",
            "------ Productos mas vendidos ------\n",
            "\n",
            "--- Tienda 1 ---\n",
            "         Producto  Cantidad\n",
            "1         Armario        60\n",
            "48  TV LED UHD 4K        60\n",
            "33     Microondas        60\n",
            "\n",
            "--- Tienda 2 ---\n",
            "                     Producto  Cantidad\n",
            "24  Iniciando en programación        65\n",
            "33                 Microondas        62\n",
            "7                     Batería        61\n",
            "\n",
            "--- Tienda 3 ---\n",
            "           Producto  Cantidad\n",
            "27    Kit de bancas        57\n",
            "31  Mesa de comedor        56\n",
            "11        Cama king        56\n",
            "\n",
            "--- Tienda 4 ---\n",
            "      Producto  Cantidad\n",
            "10    Cama box        62\n",
            "15  Cubertería        59\n",
            "11   Cama king        56\n"
          ]
        }
      ]
    },
    {
      "cell_type": "code",
      "source": [
        "print(f\"\\n----- Productos menos vendidos -----\")\n",
        "\n",
        "for nombre, df in tiendas.items():\n",
        "    print(f\"\\n--- {nombre} ---\")\n",
        "    categorias = (\n",
        "        df.groupby(\"Producto\")[\"Producto\"]\n",
        "        .count()\n",
        "        .reset_index(name=\"Cantidad\")\n",
        "        .sort_values(by=\"Cantidad\", ascending=False)\n",
        "        .tail(3)\n",
        "    )\n",
        "    print(categorias)"
      ],
      "metadata": {
        "id": "0Sw3sd4IZIGW",
        "colab": {
          "base_uri": "https://localhost:8080/"
        },
        "outputId": "c1885dd0-8cc8-46d0-e9c0-5536445e03dd"
      },
      "execution_count": 70,
      "outputs": [
        {
          "output_type": "stream",
          "name": "stdout",
          "text": [
            "\n",
            "----- Productos menos vendidos -----\n",
            "\n",
            "--- Tienda 1 ---\n",
            "                     Producto  Cantidad\n",
            "37            Olla de presión        35\n",
            "13               Celular ABXY        33\n",
            "4   Auriculares con micrófono        33\n",
            "\n",
            "--- Tienda 2 ---\n",
            "           Producto  Cantidad\n",
            "23        Impresora        34\n",
            "31  Mesa de comedor        34\n",
            "26    Juego de mesa        32\n",
            "\n",
            "--- Tienda 3 ---\n",
            "                   Producto  Cantidad\n",
            "33               Microondas        36\n",
            "42             Set de vasos        36\n",
            "9   Bloques de construcción        35\n",
            "\n",
            "--- Tienda 4 ---\n",
            "              Producto  Cantidad\n",
            "21   Guitarra acústica        37\n",
            "1              Armario        34\n",
            "22  Guitarra eléctrica        33\n"
          ]
        }
      ]
    },
    {
      "cell_type": "markdown",
      "source": [
        "# 5. Envío promedio por tienda"
      ],
      "metadata": {
        "id": "Fl0cGi3bZKqU"
      }
    },
    {
      "cell_type": "code",
      "source": [
        "print(f\"\\n-- Costo de envio promedio por tienda --\\n\")\n",
        "\n",
        "for nombre, df in tiendas.items():\n",
        "    envio = df[\"Costo de envío\"].mean()\n",
        "    print(f\"{nombre}: {envio:.2f}\")\n",
        "\n",
        "    tienda.head()"
      ],
      "metadata": {
        "id": "S2JeaCykZNy9",
        "colab": {
          "base_uri": "https://localhost:8080/"
        },
        "outputId": "77247e5a-d2a5-4f96-95a0-74cc827364d9"
      },
      "execution_count": 71,
      "outputs": [
        {
          "output_type": "stream",
          "name": "stdout",
          "text": [
            "\n",
            "-- Costo de envio promedio por tienda --\n",
            "\n",
            "Tienda 1: 26018.61\n",
            "Tienda 2: 25216.24\n",
            "Tienda 3: 24805.68\n",
            "Tienda 4: 23459.46\n"
          ]
        }
      ]
    },
    {
      "cell_type": "markdown",
      "source": [
        "Graficos"
      ],
      "metadata": {
        "id": "1oryGzC_feSU"
      }
    },
    {
      "cell_type": "code",
      "source": [
        "# Se preparan las metricas\n",
        "nombres = []\n",
        "ingresos = []\n",
        "calificaciones = []\n",
        "costos_envio = []\n",
        "\n",
        "for nombre, df in tiendas.items():\n",
        "    nombres.append(nombre)\n",
        "    ingresos.append(df[\"Precio\"].sum())\n",
        "    calificaciones.append(df[\"Calificación\"].mean())\n",
        "    costos_envio.append(df[\"Costo de envío\"].mean())"
      ],
      "metadata": {
        "id": "0tSdCie9ZQlt"
      },
      "execution_count": 72,
      "outputs": []
    },
    {
      "cell_type": "code",
      "source": [
        "# --- Gráfico 1: Barras para los ingresos totales ---\n",
        "plt.figure(figsize=(7,5))\n",
        "plt.bar(nombres, ingresos, color=\"skyblue\")\n",
        "plt.title(\"Ingresos Totales por Tienda\")\n",
        "plt.ylabel(\"Ingresos\")\n",
        "plt.xlabel(\"Tiendas\")\n",
        "plt.show()"
      ],
      "metadata": {
        "colab": {
          "base_uri": "https://localhost:8080/",
          "height": 487
        },
        "id": "Pdko0JS_fyG1",
        "outputId": "d57e28a8-4c71-4193-a18e-2a3f92892224"
      },
      "execution_count": 73,
      "outputs": [
        {
          "output_type": "display_data",
          "data": {
            "text/plain": [
              "<Figure size 700x500 with 1 Axes>"
            ],
            "image/png": "[encoded data removed]"
          },
          "metadata": {}
        }
      ]
    },
    {
      "cell_type": "code",
      "source": [
        "# --- Gráfico 2: Líneas para el promedio de calificación ---\n",
        "plt.figure(figsize=(7,5))\n",
        "plt.plot(nombres, calificaciones, marker=\"o\", linestyle=\"-\", color=\"orange\")\n",
        "plt.title(\"Calificación Promedio por Tienda\")\n",
        "plt.ylabel(\"Calificación Promedio\")\n",
        "plt.xlabel(\"Tiendas\")\n",
        "plt.show()"
      ],
      "metadata": {
        "colab": {
          "base_uri": "https://localhost:8080/",
          "height": 488
        },
        "id": "YBaOybnsgNB0",
        "outputId": "b50e0534-6dff-4564-b588-399f80559d5a"
      },
      "execution_count": 74,
      "outputs": [
        {
          "output_type": "display_data",
          "data": {
            "text/plain": [
              "<Figure size 700x500 with 1 Axes>"
            ],
            "image/png": "[encoded data removed]"
          },
          "metadata": {}
        }
      ]
    },
    {
      "cell_type": "code",
      "source": [
        "# --- Gráfico 3: Dispersión para los costos de envío promedio ---\n",
        "plt.figure(figsize=(7,5))\n",
        "plt.scatter(nombres, costos_envio, color=\"green\", s=100)\n",
        "plt.title(\"Costo de Envío Promedio por Tienda\")\n",
        "plt.ylabel(\"Costo de Envío Promedio\")\n",
        "plt.xlabel(\"Tiendas\")\n",
        "plt.show()"
      ],
      "metadata": {
        "colab": {
          "base_uri": "https://localhost:8080/",
          "height": 488
        },
        "id": "ehDgoXcigZcE",
        "outputId": "c2ae9ac5-a5a4-4ee1-b356-c9293713e46d"
      },
      "execution_count": 75,
      "outputs": [
        {
          "output_type": "display_data",
          "data": {
            "text/plain": [
              "<Figure size 700x500 with 1 Axes>"
            ],
            "image/png": "[encoded data removed]"
          },
          "metadata": {}
        }
      ]
    }
  ]
}